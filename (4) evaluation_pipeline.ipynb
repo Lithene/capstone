{
 "cells": [
  {
   "cell_type": "markdown",
   "metadata": {},
   "source": [
    "## Evaluation Pipeline"
   ]
  },
  {
   "cell_type": "markdown",
   "metadata": {},
   "source": [
    "### Import Libraries"
   ]
  },
  {
   "cell_type": "code",
   "execution_count": null,
   "metadata": {},
   "outputs": [],
   "source": [
    "import os\n",
    "import shutil\n",
    "import pickle\n",
    "import pandas as pd\n",
    "import numpy as np\n",
    "\n",
    "# Plotting libraries\n",
    "import plotly.express as px\n",
    "\n",
    "# Custom libraries\n",
    "import src.helpers_preprocess as pp\n",
    "import src.helpers_mlflow as mlf\n",
    "import src.config as config\n",
    "\n",
    "import importlib\n",
    "importlib.reload(scrap)"
   ]
  },
  {
   "cell_type": "code",
   "execution_count": null,
   "metadata": {},
   "outputs": [],
   "source": [
    "# Check if filepaths exists and create filepaths if do not exist\n",
    "# Explainations for filepaths can be found in config.py\n",
    "config.create_path(config.main_directory)\n",
    "config.create_path(config.output_path)\n",
    "config.create_path(config.raw_data_path)\n",
    "config.create_path(config.inference_output)"
   ]
  },
  {
   "cell_type": "markdown",
   "metadata": {},
   "source": [
    "##### Import latest dataset and predictions"
   ]
  },
  {
   "cell_type": "code",
   "execution_count": null,
   "metadata": {},
   "outputs": [],
   "source": [
    "curr_feats = config.get_latest_csv(config.raw_data_path, 'full_features')"
   ]
  },
  {
   "cell_type": "code",
   "execution_count": null,
   "metadata": {},
   "outputs": [],
   "source": [
    "curr_pred = config.get_latest_csv(config.inference_output, 'prediction').drop(columns=[\"Unnamed: 0\"])"
   ]
  },
  {
   "cell_type": "markdown",
   "metadata": {},
   "source": [
    "##### Group by DataSource"
   ]
  },
  {
   "cell_type": "code",
   "execution_count": null,
   "metadata": {},
   "outputs": [],
   "source": [
    "# Data Transformation for buildingg graphs\n",
    "# Count of incompliant posts by the datasource\n",
    "source_incompliant_cnt = pd.DataFrame(curr_feats.groupby(['data_source', 'incompliant']).agg('size')).rename(columns={0: 'count'}).reset_index()\n",
    "source_incompliant_cnt.replace({\"incompliant\": {1: 'incompliant', 0: 'compliant'}}, inplace=True)\n",
    "\n",
    "ttl_source_incompliant_cnt = source_incompliant_cnt[source_incompliant_cnt.incompliant == 'incompliant'][['data_source', 'count']].reset_index(drop=True)\n"
   ]
  },
  {
   "cell_type": "code",
   "execution_count": null,
   "metadata": {},
   "outputs": [],
   "source": [
    "# Bar Chart - compliant / incompliant post\n",
    "fig1 = px.bar(source_incompliant_cnt, x='data_source', y='count', color='incompliant', barmode='group')\n",
    "\n",
    "# Line chart - total incompliant posts\n",
    "line_chart = go.Scatter(x=ttl_source_incompliant_cnt['data_source'], y=ttl_source_incompliant_cnt['count'], mode='lines', name='Total Incompliant Posts')\n",
    "fig1.add_trace(line_chart)\n",
    "\n",
    "fig1.update_layout(title_text=\"Post Count by Data Sources\", height=600)\n",
    "fig1.update_layout(legend=dict(\n",
    "    title= \"\",\n",
    "    orientation=\"h\",\n",
    "    yanchor=\"bottom\",\n",
    "    y=1.02,\n",
    "    xanchor=\"right\",\n",
    "    x=1\n",
    "))\n",
    "fig1.update_layout(\n",
    "    {\n",
    "        \"paper_bgcolor\": \"rgba(0, 0, 0, 0)\",\n",
    "        \"plot_bgcolor\": \"rgba(0, 0, 0, 0)\",\n",
    "    }\n",
    ")\n",
    "fig1.update_xaxes(title_text=\"Data Source\")\n",
    "fig1.update_yaxes(title_text=\"Count of Posts\", showgrid=True, gridwidth=2, gridcolor='DarkGrey')\n",
    "\n",
    "fig1.show()"
   ]
  }
 ],
 "metadata": {
  "kernelspec": {
   "display_name": "Python 3 (ipykernel)",
   "language": "python",
   "name": "python3"
  }
 },
 "nbformat": 4,
 "nbformat_minor": 2
}
