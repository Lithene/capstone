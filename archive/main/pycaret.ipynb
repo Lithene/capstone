{
 "cells": [
  {
   "cell_type": "code",
   "execution_count": 1,
   "id": "9865d70a",
   "metadata": {},
   "outputs": [],
   "source": [
    "import os\n",
    "import pandas as pd\n",
    "import numpy as np\n",
    "\n",
    "# Pycaret\n",
    "import pycaret.nlp as pycnlp\n",
    "import pycaret.classification as pyclass\n",
    "\n",
    "#mlflow\n",
    "import mlflow\n",
    "from mlflow.tracking import MlflowClient\n",
    "\n",
    "import importlib\n",
    "import helper_pipeline as helper\n",
    "#importlib.reload(helper)"
   ]
  },
  {
   "cell_type": "markdown",
   "id": "44e5ebba",
   "metadata": {},
   "source": [
    "#### Dataset import"
   ]
  },
  {
   "cell_type": "code",
   "execution_count": 2,
   "id": "37873f8a",
   "metadata": {},
   "outputs": [],
   "source": [
    "#data_filepath = \"C:\\\\Users\\\\xtanl\\\\OneDrive - Singapore Management University\\\\Capstone\\\\inputs\\\\preprocessed_230604.xlsx\"\n",
    "data_filepath =  \"C:\\\\Users\\\\xtanl\\\\OneDrive\\\\Desktop\\\\data_file_20230730.csv\"\n",
    "data = pd.read_csv(data_filepath)"
   ]
  },
  {
   "cell_type": "code",
   "execution_count": 3,
   "id": "9fa9b0a2-2dca-4447-8203-a927a9876835",
   "metadata": {},
   "outputs": [
    {
     "data": {
      "text/html": [
       "<div>\n",
       "<style scoped>\n",
       "    .dataframe tbody tr th:only-of-type {\n",
       "        vertical-align: middle;\n",
       "    }\n",
       "\n",
       "    .dataframe tbody tr th {\n",
       "        vertical-align: top;\n",
       "    }\n",
       "\n",
       "    .dataframe thead th {\n",
       "        text-align: right;\n",
       "    }\n",
       "</style>\n",
       "<table border=\"1\" class=\"dataframe\">\n",
       "  <thead>\n",
       "    <tr style=\"text-align: right;\">\n",
       "      <th></th>\n",
       "      <th>Unnamed: 0</th>\n",
       "      <th>name</th>\n",
       "      <th>shares</th>\n",
       "      <th>reactions</th>\n",
       "      <th>reaction_count</th>\n",
       "      <th>comments</th>\n",
       "      <th>content</th>\n",
       "      <th>posted_on</th>\n",
       "      <th>video</th>\n",
       "      <th>image</th>\n",
       "      <th>post_url</th>\n",
       "    </tr>\n",
       "  </thead>\n",
       "  <tbody>\n",
       "    <tr>\n",
       "      <th>0</th>\n",
       "      <td>pfbid0TRxXKVM1CWB2WLiWP429LvudvVVxDuAouBiabnYK...</td>\n",
       "      <td>Nicholas Goh Organisation</td>\n",
       "      <td>0</td>\n",
       "      <td>{'likes': 5, 'loves': 1, 'wow': 0, 'cares': 0,...</td>\n",
       "      <td>6</td>\n",
       "      <td>1</td>\n",
       "      <td>Follow us at NGO’s BKK FastTrack 2022! In cele...</td>\n",
       "      <td>2022-07-23T00:00:00</td>\n",
       "      <td>['blob:https://www.facebook.com/30566a36-94fb-...</td>\n",
       "      <td>['https://scontent-xsp1-1.xx.fbcdn.net/v/t15.5...</td>\n",
       "      <td>https://www.facebook.com/NicholasGohOrganisati...</td>\n",
       "    </tr>\n",
       "  </tbody>\n",
       "</table>\n",
       "</div>"
      ],
      "text/plain": [
       "                                          Unnamed: 0  \\\n",
       "0  pfbid0TRxXKVM1CWB2WLiWP429LvudvVVxDuAouBiabnYK...   \n",
       "\n",
       "                        name  shares  \\\n",
       "0  Nicholas Goh Organisation       0   \n",
       "\n",
       "                                           reactions  reaction_count  \\\n",
       "0  {'likes': 5, 'loves': 1, 'wow': 0, 'cares': 0,...               6   \n",
       "\n",
       "   comments                                            content  \\\n",
       "0         1  Follow us at NGO’s BKK FastTrack 2022! In cele...   \n",
       "\n",
       "             posted_on                                              video  \\\n",
       "0  2022-07-23T00:00:00  ['blob:https://www.facebook.com/30566a36-94fb-...   \n",
       "\n",
       "                                               image  \\\n",
       "0  ['https://scontent-xsp1-1.xx.fbcdn.net/v/t15.5...   \n",
       "\n",
       "                                            post_url  \n",
       "0  https://www.facebook.com/NicholasGohOrganisati...  "
      ]
     },
     "execution_count": 3,
     "metadata": {},
     "output_type": "execute_result"
    }
   ],
   "source": [
    "data.head(1)"
   ]
  },
  {
   "cell_type": "markdown",
   "id": "36d532f0-3d40-4e3b-b6b1-cf2c4eff82a2",
   "metadata": {},
   "source": [
    "#### Data Preprocessing"
   ]
  },
  {
   "cell_type": "code",
   "execution_count": 4,
   "id": "db774161-c4fc-4ed5-9467-efbfc1224566",
   "metadata": {},
   "outputs": [],
   "source": [
    "data_df = data.copy()\n",
    "data_df = data.drop_duplicates(subset=['content'])\n",
    "### Features addition ###\n",
    "\n",
    "# Fill Nulls in content column\n",
    "data_df['content'] = data_df['content'].fillna('')\n",
    "# Apply spaces behind the hastags to identify hashes\n",
    "data_df['content'] = data_df['content'].apply(lambda x: helper.add_space_hashes(x))\n",
    "# Extract all hashtags\n",
    "data_df['hashtags'] = data_df['content'].apply(lambda x: helper.extract_hashtags(x))\n",
    "# Extract all mentiaons\n",
    "data_df['mentions'] = data_df['content'].apply(lambda x: helper.extract_mentions(x))\n",
    "# Extract all emojis\n",
    "data_df['emojis'] = data_df['content'].apply(lambda x: helper.extract_emojis(x))\n",
    "# Translate Emojis to text\n",
    "data_df['emojis_text'] = data_df['emojis'].apply(lambda x: helper.translate_emojis(x))\n",
    "\n",
    "# Check if there are words to be flagged - breach class\n",
    "data_df['breach_flagwords'] = data_df['content'].apply(lambda x: helper.contains_flagged_words(x))\n",
    "# Check if there are words to be flagged in the hashes - breach class\n",
    "data_df['breach_hashes'] = data_df['hashtags'].apply(lambda x: helper.contains_flagged_hashes(x))\n",
    "\n",
    "# Create label\n",
    "data_df['incompliant'] = np.where((data_df.breach_flagwords == True) | (data_df.breach_hashes == True) , 1, 0)"
   ]
  },
  {
   "cell_type": "code",
   "execution_count": 5,
   "id": "5276b969-5b7e-423c-af74-c9a78c7e8bd2",
   "metadata": {},
   "outputs": [],
   "source": [
    "data_df = data_df[['Unnamed: 0', 'name', 'content', 'hashtags', 'mentions', 'emojis', 'emojis_text', 'breach_flagwords', 'breach_hashes', 'incompliant']].rename(columns={'Unnamed: 0': 'id'})"
   ]
  },
  {
   "cell_type": "code",
   "execution_count": 6,
   "id": "b7519dd7-bf9d-4498-a18a-40ab7e38d6c7",
   "metadata": {},
   "outputs": [
    {
     "data": {
      "text/html": [
       "<div>\n",
       "<style scoped>\n",
       "    .dataframe tbody tr th:only-of-type {\n",
       "        vertical-align: middle;\n",
       "    }\n",
       "\n",
       "    .dataframe tbody tr th {\n",
       "        vertical-align: top;\n",
       "    }\n",
       "\n",
       "    .dataframe thead th {\n",
       "        text-align: right;\n",
       "    }\n",
       "</style>\n",
       "<table border=\"1\" class=\"dataframe\">\n",
       "  <thead>\n",
       "    <tr style=\"text-align: right;\">\n",
       "      <th></th>\n",
       "      <th>id</th>\n",
       "      <th>name</th>\n",
       "      <th>content</th>\n",
       "      <th>hashtags</th>\n",
       "      <th>mentions</th>\n",
       "      <th>emojis</th>\n",
       "      <th>emojis_text</th>\n",
       "      <th>breach_flagwords</th>\n",
       "      <th>breach_hashes</th>\n",
       "      <th>incompliant</th>\n",
       "    </tr>\n",
       "  </thead>\n",
       "  <tbody>\n",
       "    <tr>\n",
       "      <th>0</th>\n",
       "      <td>pfbid0TRxXKVM1CWB2WLiWP429LvudvVVxDuAouBiabnYK...</td>\n",
       "      <td>Nicholas Goh Organisation</td>\n",
       "      <td>Follow us at NGO’s BKK FastTrack 2022! In cele...</td>\n",
       "      <td>[]</td>\n",
       "      <td>[]</td>\n",
       "      <td></td>\n",
       "      <td></td>\n",
       "      <td>False</td>\n",
       "      <td>False</td>\n",
       "      <td>0</td>\n",
       "    </tr>\n",
       "  </tbody>\n",
       "</table>\n",
       "</div>"
      ],
      "text/plain": [
       "                                                  id  \\\n",
       "0  pfbid0TRxXKVM1CWB2WLiWP429LvudvVVxDuAouBiabnYK...   \n",
       "\n",
       "                        name  \\\n",
       "0  Nicholas Goh Organisation   \n",
       "\n",
       "                                             content hashtags mentions emojis  \\\n",
       "0  Follow us at NGO’s BKK FastTrack 2022! In cele...       []       []          \n",
       "\n",
       "  emojis_text  breach_flagwords  breach_hashes  incompliant  \n",
       "0                         False          False            0  "
      ]
     },
     "execution_count": 6,
     "metadata": {},
     "output_type": "execute_result"
    }
   ],
   "source": [
    "data_df.head(1)"
   ]
  },
  {
   "cell_type": "markdown",
   "id": "4eb74179-19a0-42db-a7b9-d602c47c8f61",
   "metadata": {},
   "source": [
    "### Pipeline"
   ]
  },
  {
   "cell_type": "code",
   "execution_count": null,
   "id": "882f3468-6089-4f4e-8cfd-442a9b8a42a5",
   "metadata": {},
   "outputs": [],
   "source": [
    "!mlflow ui\n",
    "experiment_id = helper.setup_mlflow()"
   ]
  },
  {
   "cell_type": "code",
   "execution_count": null,
   "id": "cc6f9bfa-3a03-4dbb-996a-3d2c5368b029",
   "metadata": {},
   "outputs": [],
   "source": [
    "def topic_modelling(data_df, text_col, save_dir, target_col=None):\n",
    "\n",
    "    lda_exp = pycnlp.setup(data=data_df, target=text_col, session_id=42)\n",
    "    if target_col:\n",
    "        tuned_lda = pycnlp.tune_model(model = 'lda',\n",
    "                               multi_core = True,\n",
    "                               supervised_target = target_col)\n",
    "        lda_data = pycnlp.assign_model(tuned_lda)\n",
    "        tuned_unsupervised = pycnlp.tune_model(model='lda', multi_core = True, filepath=\"C:\\\\Users\\\\xtanl\\\\OneDrive\\\\Desktop\\\\test.png\")\n",
    "    else:\n",
    "        lda = pycnlp.create_model(model='lda', multi_core=True)\n",
    "        lda_data = pycnlp.assign_model(lda)\n",
    "            \n",
    "    # Log artifacts\n",
    "    pycnlp.plot_model(lda, plot='topic_distribution', save=save_dir)\n",
    "    mlflow.log_artifacts(save_dir, artifact_path='topic_model')\n",
    "\n",
    "    return lda_data.reset_index(drop=True)"
   ]
  },
  {
   "cell_type": "code",
   "execution_count": null,
   "id": "981f3421-c7f7-4bd8-b876-ace580391f09",
   "metadata": {
    "scrolled": true
   },
   "outputs": [],
   "source": [
    "with mlflow.start_run(experiment_id=experiment_id, run_name = f'text_classification') as run:\n",
    "    \n",
    "    # List file paths\n",
    "    run_id = run.info.run_uuid\n",
    "    artifact_path = f\"./ai_critic/{run_id}/artifacts/\"\n",
    "    pp_artifact_path = os.getcwd() + f'\\\\ai_critic\\\\{run_id}\\\\artifacts\\\\preprocessing\\\\'\n",
    "    exai_artifact_path = artifact_path + 'explainable_ai/'\n",
    "\n",
    "    # Check filepath existence, otherwise create filepath\n",
    "    if not os.path.exists(pp_artifact_path):\n",
    "        os.makedirs(pp_artifact_path)\n",
    "    if not os.path.exists(exai_artifact_path):\n",
    "        os.makedirs(exai_artifact_path)\n",
    "\n",
    "    # Topic Modelling\n",
    "    topic_df = topic_modelling(data_df, 'content', exai_artifact_path)\n",
    "\n",
    "    # Text Classification\n",
    "    classfication_exp = pyclass.setup(data= train,\n",
    "                                       target = 'non_compliant',\n",
    "                                       train_size= 0.2,\n",
    "                                       high_cardinality_features = ['content'],\n",
    "                                       session_id=42)\n",
    "\n",
    "    #pycnlp.evaluate_model(lda)\n",
    "\n",
    "    pyclass.compare_models()"
   ]
  },
  {
   "cell_type": "markdown",
   "id": "115052ed",
   "metadata": {},
   "source": [
    "#### Pycaret Topic Modelling"
   ]
  },
  {
   "cell_type": "code",
   "execution_count": 7,
   "id": "58e74b03",
   "metadata": {},
   "outputs": [
    {
     "data": {
      "text/html": [
       "<style type=\"text/css\">\n",
       "</style>\n",
       "<table id=\"T_eae7b_\">\n",
       "  <thead>\n",
       "    <tr>\n",
       "      <th class=\"col_heading level0 col0\" >Description</th>\n",
       "      <th class=\"col_heading level0 col1\" >Value</th>\n",
       "    </tr>\n",
       "  </thead>\n",
       "  <tbody>\n",
       "    <tr>\n",
       "      <td id=\"T_eae7b_row0_col0\" class=\"data row0 col0\" >session_id</td>\n",
       "      <td id=\"T_eae7b_row0_col1\" class=\"data row0 col1\" >42</td>\n",
       "    </tr>\n",
       "    <tr>\n",
       "      <td id=\"T_eae7b_row1_col0\" class=\"data row1 col0\" >Documents</td>\n",
       "      <td id=\"T_eae7b_row1_col1\" class=\"data row1 col1\" >288</td>\n",
       "    </tr>\n",
       "    <tr>\n",
       "      <td id=\"T_eae7b_row2_col0\" class=\"data row2 col0\" >Vocab Size</td>\n",
       "      <td id=\"T_eae7b_row2_col1\" class=\"data row2 col1\" >1534</td>\n",
       "    </tr>\n",
       "    <tr>\n",
       "      <td id=\"T_eae7b_row3_col0\" class=\"data row3 col0\" >Custom Stopwords</td>\n",
       "      <td id=\"T_eae7b_row3_col1\" class=\"data row3 col1\" >False</td>\n",
       "    </tr>\n",
       "  </tbody>\n",
       "</table>\n"
      ],
      "text/plain": [
       "<pandas.io.formats.style.Styler at 0x21820882cd0>"
      ]
     },
     "metadata": {},
     "output_type": "display_data"
    }
   ],
   "source": [
    "nlp_exp = pycnlp.setup(data= data_df, target = 'content', session_id=42)"
   ]
  },
  {
   "cell_type": "markdown",
   "id": "9b3a4a94-40cc-4e49-9f30-8bbfbe9afc40",
   "metadata": {},
   "source": [
    "#### Text Classification"
   ]
  },
  {
   "cell_type": "code",
   "execution_count": null,
   "id": "7e1d3f5b-7b31-4b49-b662-7da802637d3c",
   "metadata": {},
   "outputs": [],
   "source": [
    "train = lda_data[['content', 'hashtags', 'mentions','emojis', 'emojis_text', 'breach_flagwords', 'breach_hashes',\n",
    "                   'Topic_0', 'Topic_1', 'Topic_2', 'Topic_3', 'Dominant_Topic', 'Perc_Dominant_Topic', 'non_compliant']]"
   ]
  },
  {
   "cell_type": "code",
   "execution_count": null,
   "id": "8a91106a-bdec-4134-bcea-32e15a96bfb6",
   "metadata": {},
   "outputs": [],
   "source": [
    "classf_exp = pyclass.setup(data= train,\n",
    "                           target = 'non_compliant',\n",
    "                           train_size= 0.2,\n",
    "                           high_cardinality_features = ['content'],\n",
    "                           session_id=42)"
   ]
  },
  {
   "cell_type": "code",
   "execution_count": null,
   "id": "d05db528-9c0f-461e-9ebf-5cac75ef7cb5",
   "metadata": {},
   "outputs": [],
   "source": [
    "%time pyclass.compare_models()"
   ]
  },
  {
   "cell_type": "code",
   "execution_count": null,
   "id": "23e4ea8b-a70e-46c3-9fb7-48990f24a40d",
   "metadata": {},
   "outputs": [],
   "source": [
    "class_model = pyclass.tune_model(best)"
   ]
  },
  {
   "cell_type": "code",
   "execution_count": null,
   "id": "c278d7a0-3b7e-4a22-82ea-3637dd4bfe33",
   "metadata": {},
   "outputs": [],
   "source": [
    "%time pyclass.evaluate_model(class_model)"
   ]
  }
 ],
 "metadata": {
  "kernelspec": {
   "display_name": "Python 3 (ipykernel)",
   "language": "python",
   "name": "python3"
  },
  "language_info": {
   "codemirror_mode": {
    "name": "ipython",
    "version": 3
   },
   "file_extension": ".py",
   "mimetype": "text/x-python",
   "name": "python",
   "nbconvert_exporter": "python",
   "pygments_lexer": "ipython3",
   "version": "3.8.0"
  }
 },
 "nbformat": 4,
 "nbformat_minor": 5
}
