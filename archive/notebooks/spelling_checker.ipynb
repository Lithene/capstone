{
 "cells": [
  {
   "cell_type": "code",
   "execution_count": 1,
   "id": "5e039e57",
   "metadata": {},
   "outputs": [
    {
     "name": "stderr",
     "output_type": "stream",
     "text": [
      "[nltk_data] Downloading package words to\n",
      "[nltk_data]     C:\\Users\\xtanl\\AppData\\Roaming\\nltk_data...\n",
      "[nltk_data]   Package words is already up-to-date!\n"
     ]
    }
   ],
   "source": [
    "#credit to: https://www.geeksforgeeks.org/correcting-words-using-nltk-in-python/ where this code was adapted\n",
    "\n",
    "import nltk\n",
    "from nltk.metrics.distance import jaccard_distance\n",
    "from nltk.util import ngrams\n",
    "nltk.download('words')\n",
    "from nltk.corpus import words"
   ]
  },
  {
   "cell_type": "code",
   "execution_count": 57,
   "id": "a8c7522b",
   "metadata": {},
   "outputs": [
    {
     "data": {
      "text/plain": [
       "'financial visor'"
      ]
     },
     "execution_count": 57,
     "metadata": {},
     "output_type": "execute_result"
    }
   ],
   "source": [
    "def correct_spellings(text):\n",
    "    \n",
    "    # Init word list and list of corrected text\n",
    "    word_list = words.words()\n",
    "    corrected_text = []\n",
    "\n",
    "    misspelled_words = text.split()\n",
    "    for word in misspelled_words:\n",
    "        temp = [(jaccard_distance(set(ngrams(word, 2)), set(ngrams(w, 2))),w) for w in word_list if w[0]==word[0]]\n",
    "        \n",
    "        try:\n",
    "            word_sort = sorted(temp, key = lambda val:val[0])[0][1]\n",
    "            corrected_text.append(word_sort)\n",
    "        except IndexError:\n",
    "            return \"Text does not exists\"\n",
    "        \n",
    "    return \" \".join(corrected_text)"
   ]
  },
  {
   "cell_type": "code",
   "execution_count": 59,
   "id": "4cebf3c9",
   "metadata": {},
   "outputs": [
    {
     "data": {
      "text/plain": [
       "'Text does not exists'"
      ]
     },
     "execution_count": 59,
     "metadata": {},
     "output_type": "execute_result"
    }
   ],
   "source": [
    "from spellchecker import SpellChecker\n",
    "\n",
    "def spellingchecker(text):\n",
    "    \n",
    "    # Init spell checker and list of corrected text\n",
    "    spell = SpellChecker()\n",
    "    corrected_text = []\n",
    "    \n",
    "    # Correct spelling\n",
    "    misspelled_words = spell.unknown(text.split())\n",
    "    for word in text.split():\n",
    "        if word in misspelled_words:\n",
    "            corrected_text.append(spell.correction(word))\n",
    "        else:\n",
    "            corrected_text.append(word)\n",
    "            \n",
    "    if corrected_text == [None]:\n",
    "        return \"Text does not exists\"\n",
    "    else:\n",
    "        return \" \".join(corrected_text)"
   ]
  },
  {
   "cell_type": "code",
   "execution_count": 61,
   "id": "1447065f",
   "metadata": {},
   "outputs": [],
   "source": [
    "list_of_words = [\"financial viser\", \"financial visor\", \"financial @dvisor\", \"financial_@dvisor\"]"
   ]
  },
  {
   "cell_type": "code",
   "execution_count": 63,
   "id": "b2467f67",
   "metadata": {},
   "outputs": [
    {
     "name": "stdout",
     "output_type": "stream",
     "text": [
      "correct_spelling financial viser ----> financial vise\n",
      "spellingchecker financial viser ----> financial wiser\n",
      "\n",
      "\n",
      "correct_spelling financial visor ----> financial visor\n",
      "spellingchecker financial visor ----> financial visor\n",
      "\n",
      "\n",
      "correct_spelling financial @dvisor ----> Text does not exists\n",
      "spellingchecker financial @dvisor ----> financial advisor\n",
      "\n",
      "\n",
      "correct_spelling financial_@dvisor ----> financial\n",
      "spellingchecker financial_@dvisor ----> Text does not exists\n",
      "\n",
      "\n"
     ]
    }
   ],
   "source": [
    "for ea_word in list_of_words:\n",
    "    print('correct_spelling', ea_word, '---->', correct_spellings(ea_word))\n",
    "    print('spellingchecker', ea_word, '---->', spellingchecker(ea_word))\n",
    "    print('\\n')"
   ]
  }
 ],
 "metadata": {
  "kernelspec": {
   "display_name": "Python 3 (ipykernel)",
   "language": "python",
   "name": "python3"
  },
  "language_info": {
   "codemirror_mode": {
    "name": "ipython",
    "version": 3
   },
   "file_extension": ".py",
   "mimetype": "text/x-python",
   "name": "python",
   "nbconvert_exporter": "python",
   "pygments_lexer": "ipython3",
   "version": "3.10.11"
  }
 },
 "nbformat": 4,
 "nbformat_minor": 5
}
