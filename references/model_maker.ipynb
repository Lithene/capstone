{
 "cells": [
  {
   "cell_type": "markdown",
   "id": "9e22e4ce",
   "metadata": {},
   "source": [
    "https://towardsdatascience.com/building-a-custom-model-in-scikit-learn-b0da965a1299"
   ]
  },
  {
   "cell_type": "code",
   "execution_count": null,
   "id": "6b413c89",
   "metadata": {},
   "outputs": [],
   "source": [
    "import re\n",
    "import pandas as pd\n",
    "import numpy as np\n",
    "import datetime\n",
    "import time\n",
    "\n",
    "import unicodedata\n",
    "import emoji\n",
    "\n",
    "import matplotlib.pyplot as plt\n",
    "\n",
    "pd.set_option('display.max_colwidth', None)"
   ]
  },
  {
   "cell_type": "code",
   "execution_count": null,
   "id": "262a62ea",
   "metadata": {},
   "outputs": [],
   "source": [
    "class modelMaker(tf.keras.Model):\n",
    "\n",
    "    def __init__(self, img_height, img_width, num_classes=1, trained='dense'):\n",
    "        super(modelMaker, self).__init__()\n",
    "        self.trained = trained\n",
    "        self.IMG_SHAPE = (img_height,img_width) + (3,)\n",
    "        # define common layers\n",
    "        self.flat = tf.keras.layers.Flatten(name=\"flatten\")\n",
    "        self.classify = tf.keras.layers.Dense(num_classes, name=\"classify\")\n",
    "        # define layers for when \"trained\" != \"resnet\"\n",
    "        if self.trained == \"dense\":\n",
    "            self.dense = tf.keras.layers.Dense(128, name=\"dense128\") \n",
    "        \n",
    "        # layers for when \"trained\" == \"resnet\"\n",
    "        else:\n",
    "            self.pre_resnet = tf.keras.applications.resnet50.preprocess_input\n",
    "            self.base_model = tf.keras.applications.ResNet50(input_shape=self.IMG_SHAPE, include_top=False, weights='imagenet')\n",
    "            self.base_model.trainable = False\n",
    "            for layer in self.base_model.layers:\n",
    "                if isinstance(layer, tf.keras.layers.BatchNormalization):\n",
    "                    layer.trainable = True\n",
    "                else:\n",
    "                    layer.trainable = False\n",
    "    \n",
    "    def call(self, inputs):\n",
    "        # define your model without resnet \n",
    "        if self.trained == \"dense\":\n",
    "            x = self.flat(inputs)\n",
    "            x = self.dense(x)\n",
    "            x = self.classify(x)\n",
    "            return x\n",
    "        # define your model with resnet\n",
    "        else:\n",
    "            x = self.pre_resnet(inputs)\n",
    "            x = self.base_model(x)\n",
    "            x = self.flat(x)\n",
    "            x = self.classify(x)\n",
    "            return x\n",
    "        \n",
    "    # add this function to get correct output for model summary\n",
    "    def summary(self):\n",
    "        x = tf.keras.Input(shape=self.IMG_SHAPE, name=\"input_layer\")\n",
    "        model = tf.keras.Model(inputs=[x], outputs=self.call(x))\n",
    "        return model.summary()\n",
    "    \n",
    "model = modelMaker(128, 128, trained=\"resnet\") # create object\n",
    "model.build((10,128,128,3))                    # build model\n",
    "model.summary()                                # print summary"
   ]
  },
  {
   "cell_type": "code",
   "execution_count": 49,
   "id": "2ea6fdf0",
   "metadata": {},
   "outputs": [],
   "source": [
    "class skmodel_experiment:\n",
    "    \n",
    "    def __init__(self, experiment_id, run_name):\n",
    "        \n",
    "        # Instantiate the model run with MLFLOW\n",
    "        #self.x_train = xtrain\n",
    "        #self.y_train = ytrain\n",
    "        #self.x_test= xtest\n",
    "        #self.y_test = ytest\n",
    "        \n",
    "        self.experiment_id = experiment_id\n",
    "        self.run_name = run_name\n",
    "        #self.classifier = classifier\n",
    "        \n",
    "    def __str__(self):\n",
    "        \n",
    "        # Print the model run summary\n",
    "        return f\"Mlflow experiment ID: {self.experiment_id} ({self.run_name})\\n\"\n",
    "        \n",
    "    def run_experiment(classifier, model_name, run_name, log_metrics = False):\n",
    "        if log_metrics:\n",
    "            with mlflow.start_run(experiment_id=experiment_id, run_name=run_name) as run:\n",
    "                run_id = run.info.run_uuid\n",
    "                MlflowClient().set_tag(run_id,\n",
    "                                       \"mlflow.note.content\",\n",
    "                                       \"Testing baseline models for binary classification between compliant(0) and non-compliant(1) post\")\n",
    "                # Logged information like Parameters and Training metrics (like precission score, f1 score, ...)\n",
    "                mlflow.sklearn.autolog()\n",
    "\n",
    "                tags = {\"Application\": \"Binary Classification - Non-Compliant/Compliant\", # Options: ML/DL/Sentiment/Topic\n",
    "                        \"release_version\": \"1.0.0\"}\n",
    "                mlflow.set_tags(tags)\n",
    "\n",
    "                clf = classifier\n",
    "                clf.fit(x_train, y_train)\n",
    "                valid_prediction = clf.predict_proba(X_valid)[:, 1]\n",
    "\n",
    "                fpr, tpr, thresholds = roc_curve(y_valid, valid_prediction)\n",
    "                roc_auc = auc(fpr, tpr)\n",
    "\n",
    "                if log_metrics:\n",
    "                    mlflow.log_metrics({\"validation_auc\": roc_auc})\n",
    "        else:\n",
    "                clf = classifier\n",
    "                clf.fit(x_train, y_train)\n",
    "                valid_prediction = clf.predict_proba(X_valid)[:, 1]\n",
    "\n",
    "                fpr, tpr, thresholds = roc_curve(y_valid, valid_prediction)\n",
    "                roc_auc = auc(fpr, tpr)\n",
    "                \n",
    "        return y_valid, valid_prediction\n",
    "            \n",
    "\n",
    "    def create_confusion_matrix(savefig = False, log_artifact = False):\n",
    "        \n",
    "        ConfusionMatrixDisplay.from_estimator(clf, X_valid, y_valid,\n",
    "                                              #display_labels=['Non-compliant', 'Compliant'],\n",
    "                                              cmap='magma')\n",
    "        # Print Confusion Matrix\n",
    "        plt.title('Confusion Matrix')\n",
    "        plt.axis(\"off\")\n",
    "        filename = f'./{model_name}_validation_confusion_matrix.png'\n",
    "        \n",
    "        if savefig:\n",
    "            plt.savefig(filename)\n",
    "        \n",
    "        if log_artifact:\n",
    "            mlflow.log_artifact(filename)"
   ]
  },
  {
   "cell_type": "code",
   "execution_count": 50,
   "id": "b2acdee5",
   "metadata": {},
   "outputs": [],
   "source": [
    "test_model = skmodel_experiment('1234', 'log_reg')"
   ]
  },
  {
   "cell_type": "code",
   "execution_count": 51,
   "id": "75883a1c",
   "metadata": {},
   "outputs": [
    {
     "name": "stdout",
     "output_type": "stream",
     "text": [
      "Mlflow Experiment ID: 1234 (log_reg)\n",
      "Testing\n"
     ]
    }
   ],
   "source": [
    "print(test_model)"
   ]
  }
 ],
 "metadata": {
  "kernelspec": {
   "display_name": "Python 3 (ipykernel)",
   "language": "python",
   "name": "python3"
  },
  "language_info": {
   "codemirror_mode": {
    "name": "ipython",
    "version": 3
   },
   "file_extension": ".py",
   "mimetype": "text/x-python",
   "name": "python",
   "nbconvert_exporter": "python",
   "pygments_lexer": "ipython3",
   "version": "3.9.12"
  }
 },
 "nbformat": 4,
 "nbformat_minor": 5
}
