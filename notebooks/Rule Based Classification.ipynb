{
 "cells": [
  {
   "cell_type": "code",
   "execution_count": 11,
   "id": "6126b25b",
   "metadata": {},
   "outputs": [],
   "source": [
    "import re\n",
    "import pandas as pd\n",
    "import numpy as np\n",
    "import datetime\n",
    "import time\n",
    "\n",
    "import unicodedata\n",
    "import emoji\n",
    "\n",
    "import matplotlib.pyplot as plt\n",
    "\n",
    "import helpers as helper\n",
    "pd.set_option('display.max_colwidth', None)"
   ]
  },
  {
   "cell_type": "code",
   "execution_count": 12,
   "id": "1300460b",
   "metadata": {},
   "outputs": [],
   "source": [
    "# Download datafile from sharepoint\n",
    "data_file_path = \"C:\\\\Users\\\\xtanl\\\\OneDrive - Singapore Management University\\\\Capstone\\\\inputs\\\\preprocessed_230604.xlsx\"\n",
    "data = pd.read_excel(data_file_path)"
   ]
  },
  {
   "cell_type": "markdown",
   "id": "1e717131",
   "metadata": {},
   "source": [
    "## Rule Based Classification"
   ]
  },
  {
   "cell_type": "markdown",
   "id": "437f48d5",
   "metadata": {},
   "source": [
    "### Pre-processing"
   ]
  },
  {
   "cell_type": "code",
   "execution_count": 13,
   "id": "766cc594",
   "metadata": {},
   "outputs": [],
   "source": [
    "data_df = data.copy()"
   ]
  },
  {
   "cell_type": "code",
   "execution_count": 14,
   "id": "acf51d79",
   "metadata": {},
   "outputs": [],
   "source": [
    "# Re-Clean text\n",
    "data_df['cleaned_text'] = data_df.content.apply(lambda x: helper.text_cleaning(x))\n",
    "# Remove emojis\n",
    "data_df['remove_emojis'] = helper.remove_emojis(data_df['cleaned_text'])\n",
    "# Remove chinese\n",
    "data_df['remove_chinese'] = helper.remove_chinese(data_df['remove_emojis'])"
   ]
  },
  {
   "cell_type": "code",
   "execution_count": null,
   "id": "abddd6fe",
   "metadata": {},
   "outputs": [],
   "source": [
    "data_df.head(1)"
   ]
  },
  {
   "cell_type": "markdown",
   "id": "35b862da",
   "metadata": {},
   "source": [
    "### Extract for hyperlinks"
   ]
  },
  {
   "cell_type": "code",
   "execution_count": 30,
   "id": "59b369d1",
   "metadata": {},
   "outputs": [],
   "source": [
    "def extract_hyperlinks(data_df, column):\n",
    "    \n",
    "    all_links = []\n",
    "\n",
    "    URL_REGEX = r\"\"\"((?:(?:https|ftp|http)?:(?:/{1,3}|[a-z0-9%])|[a-z0-9.\\-]+[.](?:com|org|uk)/)(?:[^\\s()<>{}\\[\\]]+|\\([^\\s()]*?\\([^\\s()]+\\)[^\\s()]*?\\)|\\([^\\s]+?\\))+(?:\\([^\\s()]*?\\([^\\s()]+\\)[^\\s()]*?\\)|\\([^\\s]+?\\)|[^\\s`!()\\[\\]{};:'\".,<>?«»“”‘’])|(?:(?<!@)[a-z0-9]+(?:[.\\-][a-z0-9]+)*[.](?:com|uk|ac)\\b/?(?!@)))\"\"\"\n",
    "\n",
    "    #extract hyperlinks\n",
    "    for each_text in range(len(data_df)):\n",
    "        string = data_df.iloc[each_text][column]\n",
    "        all_links.append(re.findall(URL_REGEX, string))\n",
    "\n",
    "    return all_links"
   ]
  },
  {
   "cell_type": "code",
   "execution_count": 31,
   "id": "5e1000b2",
   "metadata": {},
   "outputs": [],
   "source": [
    "data_df['hyperlinks'] = extract_hyperlinks(data_df, 'remove_chinese')"
   ]
  },
  {
   "cell_type": "markdown",
   "id": "5dc08318",
   "metadata": {},
   "source": [
    "### Extract email links"
   ]
  },
  {
   "cell_type": "code",
   "execution_count": 32,
   "id": "19adee39",
   "metadata": {},
   "outputs": [],
   "source": [
    "def extract_emails(data_df, column):\n",
    "    \n",
    "    all_emails = []\n",
    "\n",
    "    EMAIL_REGEX = r'[\\w.+-]+@[\\w-]+\\.[\\w.-]+'\n",
    "\n",
    "    # extract emails\n",
    "    for each_text in range(len(data_df)):\n",
    "        string = data_df.iloc[each_text][column]\n",
    "        all_emails.append(re.findall(EMAIL_REGEX, string))\n",
    "        \n",
    "    return all_emails"
   ]
  },
  {
   "cell_type": "code",
   "execution_count": 33,
   "id": "0dd705f4",
   "metadata": {},
   "outputs": [],
   "source": [
    "data_df['emails'] = extract_emails(data_df, 'remove_chinese')"
   ]
  },
  {
   "cell_type": "markdown",
   "id": "b06e0b72",
   "metadata": {},
   "source": [
    "### Extract Approval Codes"
   ]
  },
  {
   "cell_type": "code",
   "execution_count": 35,
   "id": "a565b69a",
   "metadata": {},
   "outputs": [],
   "source": [
    "def extract_codes(data_df, column):\n",
    "    \n",
    "    all_codes = []\n",
    "\n",
    "    APPV_REGEX =r'[a-z][\\d]{5}'\n",
    "\n",
    "    # extract emails\n",
    "    for each_text in range(len(data_df)):\n",
    "        string = data_df.iloc[each_text][column]\n",
    "        all_codes.append(re.findall(EMAIL_REGEX, string))\n",
    "        \n",
    "    return all_codes"
   ]
  },
  {
   "cell_type": "code",
   "execution_count": 36,
   "id": "c3e7ac19",
   "metadata": {},
   "outputs": [],
   "source": [
    "data_df['approval_codes'] = extract_emails(data_df, 'remove_chinese')"
   ]
  },
  {
   "cell_type": "markdown",
   "id": "3be18e87",
   "metadata": {},
   "source": [
    "### Indicator columns"
   ]
  },
  {
   "cell_type": "code",
   "execution_count": 47,
   "id": "6e6ffdf2",
   "metadata": {},
   "outputs": [],
   "source": [
    "data_df['has_emails']  = np.where(data_df[\"emails\"].str.len() == 0, 0, 1)"
   ]
  },
  {
   "cell_type": "code",
   "execution_count": 48,
   "id": "4baeef2f",
   "metadata": {},
   "outputs": [],
   "source": [
    "data_df['has_approvalcode']  = np.where(data_df[\"approval_codes\"].str.len() == 0, 0, 1)"
   ]
  },
  {
   "cell_type": "code",
   "execution_count": 49,
   "id": "ea53a313",
   "metadata": {},
   "outputs": [],
   "source": [
    "data_df['has_hyperlinks']  = np.where(data_df[\"hyperlinks\"].str.len() == 0, 0, 1)"
   ]
  }
 ],
 "metadata": {
  "kernelspec": {
   "display_name": "Python 3 (ipykernel)",
   "language": "python",
   "name": "python3"
  },
  "language_info": {
   "codemirror_mode": {
    "name": "ipython",
    "version": 3
   },
   "file_extension": ".py",
   "mimetype": "text/x-python",
   "name": "python",
   "nbconvert_exporter": "python",
   "pygments_lexer": "ipython3",
   "version": "3.9.12"
  }
 },
 "nbformat": 4,
 "nbformat_minor": 5
}
