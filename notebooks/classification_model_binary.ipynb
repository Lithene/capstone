{
 "cells": [
  {
   "cell_type": "markdown",
   "id": "4b60ba73",
   "metadata": {},
   "source": [
    "### Binary Classification Modelling\n",
    "-- Compliant / Non-compliant posts"
   ]
  },
  {
   "cell_type": "code",
   "execution_count": 1,
   "id": "5897bfa0",
   "metadata": {},
   "outputs": [],
   "source": [
    "import re\n",
    "import pandas as pd\n",
    "import numpy as np\n",
    "import datetime\n",
    "import time\n",
    "\n",
    "import unicodedata\n",
    "import emoji\n",
    "\n",
    "import matplotlib.pyplot as plt\n",
    "\n",
    "pd.set_option('display.max_colwidth', None)"
   ]
  },
  {
   "cell_type": "markdown",
   "id": "c62c081d",
   "metadata": {},
   "source": [
    "#### Read the data from csv"
   ]
  },
  {
   "cell_type": "code",
   "execution_count": 2,
   "id": "88f1778a",
   "metadata": {},
   "outputs": [],
   "source": [
    "# Download datafile from sharepoint\n",
    "data_file_path = [INSERT]\n",
    "data = pd.read_excel(data_file_path)\n",
    "data_df = data[['name', 'content', 'breach', 'non_compliant']]"
   ]
  },
  {
   "cell_type": "markdown",
   "id": "391994e9",
   "metadata": {},
   "source": [
    "### Added features"
   ]
  },
  {
   "cell_type": "code",
   "execution_count": 3,
   "id": "e8a426e0",
   "metadata": {
    "scrolled": true
   },
   "outputs": [],
   "source": [
    "def add_space_hashes(text_string):\n",
    "    # Function to add a space behind the hash tags\n",
    "    text_list = []\n",
    "    \n",
    "    # Convert any datetime text into string\n",
    "    if isinstance(text_string, datetime.time) | isinstance(text_string, datetime.datetime) | isinstance(text_string, datetime.date):\n",
    "        text_string = text_string.isoformat()\n",
    "\n",
    "    for char in text_string:\n",
    "        if char == '#':\n",
    "            char = ' ' + char\n",
    "        text_list.append(char)\n",
    "        \n",
    "    return ''.join(text_list)"
   ]
  },
  {
   "cell_type": "code",
   "execution_count": 4,
   "id": "5ecb098c",
   "metadata": {},
   "outputs": [],
   "source": [
    "def extract_hashtags(text_string):\n",
    " \n",
    "    # initializing hashtag_list variable\n",
    "    hashtag_list = []\n",
    " \n",
    "    # splitting the text into words\n",
    "    for word in text_string.split():\n",
    "        # checking the first character of every word\n",
    "        if word[0] == '#':\n",
    "            # adding the word to the hashtag_list\n",
    "            hashtag_list.append(word[1:])\n",
    "        \n",
    "    return hashtag_list"
   ]
  },
  {
   "cell_type": "code",
   "execution_count": 5,
   "id": "72b312bb",
   "metadata": {},
   "outputs": [],
   "source": [
    "def extract_mentions(text_string):\n",
    "    # Function to add a space behind mentions (@)\n",
    "    result = re.findall(\"(^|[^@\\w])@(\\w{1,15})\", text_string) # disregards emails\n",
    "    # Add to a list\n",
    "    result_list = ['@' + tuple(j for j in i if j)[-1] for i in result]\n",
    "    \n",
    "    return result_list"
   ]
  },
  {
   "cell_type": "code",
   "execution_count": 6,
   "id": "7a0cef22",
   "metadata": {},
   "outputs": [],
   "source": [
    "def extract_emojis(s):\n",
    "    return ''.join(c for c in s if c in emoji.EMOJI_DATA)\n",
    "\n",
    "def is_emoji(string): \n",
    "    \"\"\"Returns True if the string is an emoji.\"\"\" \n",
    "    return string in unicode_codes.EMOJI_DATA "
   ]
  },
  {
   "cell_type": "code",
   "execution_count": 7,
   "id": "2343172a",
   "metadata": {},
   "outputs": [],
   "source": [
    "def translate_emojis(text_string):\n",
    "    result = []\n",
    "\n",
    "    for char in text_string:\n",
    "        if unicodedata.category(char) in ('So', 'Mn'):\n",
    "            result.append(unicodedata.name(char))\n",
    "        elif unicodedata.category(char) in ('Cs'):\n",
    "            result.append('?') #char)\n",
    "        else:\n",
    "            result.append(char)\n",
    "\n",
    "    return ','.join(result)"
   ]
  },
  {
   "cell_type": "code",
   "execution_count": 8,
   "id": "6745da0b",
   "metadata": {},
   "outputs": [
    {
     "name": "stderr",
     "output_type": "stream",
     "text": [
      "C:\\Users\\xtanl\\AppData\\Local\\Temp\\ipykernel_33056\\4219806968.py:4: SettingWithCopyWarning: \n",
      "A value is trying to be set on a copy of a slice from a DataFrame.\n",
      "Try using .loc[row_indexer,col_indexer] = value instead\n",
      "\n",
      "See the caveats in the documentation: https://pandas.pydata.org/pandas-docs/stable/user_guide/indexing.html#returning-a-view-versus-a-copy\n",
      "  data_df['content'] = data_df['content'].fillna('')\n",
      "C:\\Users\\xtanl\\AppData\\Local\\Temp\\ipykernel_33056\\4219806968.py:6: SettingWithCopyWarning: \n",
      "A value is trying to be set on a copy of a slice from a DataFrame.\n",
      "Try using .loc[row_indexer,col_indexer] = value instead\n",
      "\n",
      "See the caveats in the documentation: https://pandas.pydata.org/pandas-docs/stable/user_guide/indexing.html#returning-a-view-versus-a-copy\n",
      "  data_df['content'] = data_df['content'].apply(lambda x: add_space_hashes(x))\n",
      "C:\\Users\\xtanl\\AppData\\Local\\Temp\\ipykernel_33056\\4219806968.py:8: SettingWithCopyWarning: \n",
      "A value is trying to be set on a copy of a slice from a DataFrame.\n",
      "Try using .loc[row_indexer,col_indexer] = value instead\n",
      "\n",
      "See the caveats in the documentation: https://pandas.pydata.org/pandas-docs/stable/user_guide/indexing.html#returning-a-view-versus-a-copy\n",
      "  data_df['hashtags'] = data_df['content'].apply(lambda x: extract_hashtags(x))\n"
     ]
    }
   ],
   "source": [
    "### Features addition ###\n",
    "\n",
    "# Fill Nulls in content column\n",
    "data_df['content'] = data_df['content'].fillna('')\n",
    "# Apply spaces behind the hastags to identify hashes\n",
    "data_df['content'] = data_df['content'].apply(lambda x: add_space_hashes(x))\n",
    "# Extract all hashtags\n",
    "data_df['hashtags'] = data_df['content'].apply(lambda x: extract_hashtags(x))\n",
    "# Extract all mentiaons\n",
    "data_df['mentions'] = data_df['content'].apply(lambda x: extract_mentions(x))\n",
    "# Extract all emojis\n",
    "data_df['emojis'] = data_df['content'].apply(lambda x: extract_emojis(x))\n",
    "# Translate Emojis to text\n",
    "data_df['emojis_text'] = data_df['emojis'].apply(lambda x: translate_emojis(x))"
   ]
  },
  {
   "cell_type": "code",
   "execution_count": 9,
   "id": "d9e580ba",
   "metadata": {},
   "outputs": [],
   "source": [
    "#data_df[data_df['emojis_text'].notnull()]"
   ]
  },
  {
   "cell_type": "markdown",
   "id": "561f7468",
   "metadata": {},
   "source": [
    "### Rule based Flagging"
   ]
  },
  {
   "cell_type": "code",
   "execution_count": 10,
   "id": "9b83bc02",
   "metadata": {},
   "outputs": [],
   "source": [
    "def contains_flagged_words(text_string):\n",
    "    # Check if text contains flagged words\n",
    "    flagged = ['financial advisor', 'advisor', 'financial adviser']\n",
    "    for flag in flagged:\n",
    "        if flag in text_string:\n",
    "            return True\n",
    "    return False"
   ]
  },
  {
   "cell_type": "code",
   "execution_count": 11,
   "id": "2e25c365",
   "metadata": {},
   "outputs": [],
   "source": [
    "def contains_flagged_hashes(hash_list):\n",
    "    # Check if hashtags contains flagged words\n",
    "    flagged = ['financialadvisor', 'advisor', 'financialadviser']\n",
    "    for flag in flagged:\n",
    "        for hashtags in hash_list:\n",
    "            if flag in hashtags:\n",
    "                return True\n",
    "    return False"
   ]
  },
  {
   "cell_type": "code",
   "execution_count": 12,
   "id": "79a5aa98",
   "metadata": {},
   "outputs": [],
   "source": [
    "# Check if there are words to be flagged - breach class\n",
    "data_df['breach_flagwords'] = data_df['content'].apply(lambda x: contains_flagged_words(x))\n",
    "# Check if there are words to be flagged in the hashes - breach class\n",
    "data_df['breach_hashes'] = data_df['hashtags'].apply(lambda x: contains_flagged_hashes(x))"
   ]
  },
  {
   "cell_type": "code",
   "execution_count": 13,
   "id": "d3aa56d2",
   "metadata": {},
   "outputs": [
    {
     "data": {
      "text/html": [
       "<div>\n",
       "<style scoped>\n",
       "    .dataframe tbody tr th:only-of-type {\n",
       "        vertical-align: middle;\n",
       "    }\n",
       "\n",
       "    .dataframe tbody tr th {\n",
       "        vertical-align: top;\n",
       "    }\n",
       "\n",
       "    .dataframe thead th {\n",
       "        text-align: right;\n",
       "    }\n",
       "</style>\n",
       "<table border=\"1\" class=\"dataframe\">\n",
       "  <thead>\n",
       "    <tr style=\"text-align: right;\">\n",
       "      <th></th>\n",
       "      <th>name</th>\n",
       "      <th>content</th>\n",
       "      <th>breach</th>\n",
       "      <th>non_compliant</th>\n",
       "      <th>hashtags</th>\n",
       "      <th>mentions</th>\n",
       "      <th>emojis</th>\n",
       "      <th>emojis_text</th>\n",
       "      <th>breach_flagwords</th>\n",
       "      <th>breach_hashes</th>\n",
       "    </tr>\n",
       "  </thead>\n",
       "  <tbody>\n",
       "    <tr>\n",
       "      <th>0</th>\n",
       "      <td>Nicholas Goh Organisation</td>\n",
       "      <td>Follow us at NGO’s BKK FastTrack 2022! In celebrating with the qualifiers, we had a lot of fun. Our team really bonded while traveling, eating, and shopping together! A true companion is one that travels together and stays together! It was 100% more enjoyable to spend time traveling together than going alone! Once again, congratulations to all the qualifiers!</td>\n",
       "      <td>No further action required</td>\n",
       "      <td>0</td>\n",
       "      <td>[]</td>\n",
       "      <td>[]</td>\n",
       "      <td></td>\n",
       "      <td></td>\n",
       "      <td>False</td>\n",
       "      <td>False</td>\n",
       "    </tr>\n",
       "  </tbody>\n",
       "</table>\n",
       "</div>"
      ],
      "text/plain": [
       "                        name  \\\n",
       "0  Nicholas Goh Organisation   \n",
       "\n",
       "                                                                                                                                                                                                                                                                                                                                                                     content  \\\n",
       "0  Follow us at NGO’s BKK FastTrack 2022! In celebrating with the qualifiers, we had a lot of fun. Our team really bonded while traveling, eating, and shopping together! A true companion is one that travels together and stays together! It was 100% more enjoyable to spend time traveling together than going alone! Once again, congratulations to all the qualifiers!   \n",
       "\n",
       "                       breach  non_compliant hashtags mentions emojis  \\\n",
       "0  No further action required              0       []       []          \n",
       "\n",
       "  emojis_text  breach_flagwords  breach_hashes  \n",
       "0                         False          False  "
      ]
     },
     "execution_count": 13,
     "metadata": {},
     "output_type": "execute_result"
    }
   ],
   "source": [
    "data_df.head(1)"
   ]
  },
  {
   "cell_type": "markdown",
   "id": "f04206fe",
   "metadata": {},
   "source": [
    "### Text preprocessing for model input"
   ]
  },
  {
   "cell_type": "code",
   "execution_count": 14,
   "id": "7d59e0c0",
   "metadata": {},
   "outputs": [],
   "source": [
    "import string\n",
    "from nltk.corpus import stopwords\n",
    "from sklearn.feature_extraction.text import CountVectorizer"
   ]
  },
  {
   "cell_type": "code",
   "execution_count": 15,
   "id": "a0eb1c1d",
   "metadata": {},
   "outputs": [],
   "source": [
    "def text_cleaning(text):\n",
    "    # remove tags\n",
    "    text = re.sub(\"@\\S+\", \"\", text)\n",
    "    # remove websites\n",
    "    text = re.sub(\"https*\\S+\", \"\", text)\n",
    "    # remove hashtags\n",
    "    text = re.sub(\"#\\S+\", \"\", text)\n",
    "    # remove apostrophes eg. abc's\n",
    "    text = re.sub(\"\\'\\w+\", \"\", text)\n",
    "    # remove punctuation\n",
    "    text = re.sub('[%s]' % re.escape(string.punctuation), \"\", text)\n",
    "    # remove numbers\n",
    "    text = re.sub(r'\\w*\\d+\\w*', \"\", text)\n",
    "    # remove stopwords\n",
    "    default_stopwords = stopwords.words('english')\n",
    "    text = [word for word in text.split() if word not in default_stopwords]\n",
    "    \n",
    "    # remove spaces more than \" \"\n",
    "    #text = re.sub('\\s{2,}', \" \", text)\n",
    "\n",
    "    return text"
   ]
  },
  {
   "cell_type": "code",
   "execution_count": 16,
   "id": "cb37c8c4",
   "metadata": {},
   "outputs": [],
   "source": [
    "# Clean text\n",
    "data_df['cleaned_text'] = data_df.content.apply(lambda x: text_cleaning(x))"
   ]
  },
  {
   "cell_type": "code",
   "execution_count": 17,
   "id": "08dbdac0",
   "metadata": {
    "scrolled": true
   },
   "outputs": [],
   "source": [
    "# Transform text to a count vector\n",
    "countvectorizer = CountVectorizer(analyzer = text_cleaning, dtype = 'uint8').fit_transform(data_df['content']).toarray()"
   ]
  },
  {
   "cell_type": "code",
   "execution_count": 18,
   "id": "36434109",
   "metadata": {},
   "outputs": [
    {
     "data": {
      "text/plain": [
       "(99, 1111)"
      ]
     },
     "execution_count": 18,
     "metadata": {},
     "output_type": "execute_result"
    }
   ],
   "source": [
    "countvectorizer.shape"
   ]
  },
  {
   "cell_type": "markdown",
   "id": "3767ed82",
   "metadata": {},
   "source": [
    "### Train Test Split"
   ]
  },
  {
   "cell_type": "code",
   "execution_count": 19,
   "id": "658bea4c",
   "metadata": {},
   "outputs": [],
   "source": [
    "from sklearn.model_selection import train_test_split"
   ]
  },
  {
   "cell_type": "code",
   "execution_count": 20,
   "id": "c1599021",
   "metadata": {},
   "outputs": [],
   "source": [
    "# Does not take into account rule-based classification\n",
    "\n",
    "posts = pd.DataFrame(countvectorizer)\n",
    "X = countvectorizer\n",
    "y = data_df['non_compliant']"
   ]
  },
  {
   "cell_type": "code",
   "execution_count": 21,
   "id": "be40a2cc",
   "metadata": {},
   "outputs": [],
   "source": [
    "X, y = X, y #[1:300]\n",
    "X_train, X_valid, y_train, y_valid = train_test_split(X, y, test_size=0.6, random_state=42)"
   ]
  },
  {
   "cell_type": "markdown",
   "id": "626d99ce",
   "metadata": {},
   "source": [
    "### MLFlow setup"
   ]
  },
  {
   "cell_type": "code",
   "execution_count": 22,
   "id": "67e2d8f3",
   "metadata": {},
   "outputs": [],
   "source": [
    "import mlflow\n",
    "from mlflow.tracking import MlflowClient\n",
    "\n",
    "from sklearn.metrics import auc, roc_curve\n",
    "from sklearn.metrics import ConfusionMatrixDisplay"
   ]
  },
  {
   "cell_type": "code",
   "execution_count": 23,
   "id": "f4f3448f",
   "metadata": {},
   "outputs": [
    {
     "name": "stdout",
     "output_type": "stream",
     "text": [
      "^C\n"
     ]
    }
   ],
   "source": [
    "# Interrupt the execution of this cell manually and go to http://127.0.0.1:5000\n",
    "!mlflow ui"
   ]
  },
  {
   "cell_type": "code",
   "execution_count": 24,
   "id": "e6fa48c1",
   "metadata": {},
   "outputs": [],
   "source": [
    "EXPERIMENT_NAME = \"ai_critic\"\n",
    "ARTIFACT_REPO = './ai_critic_mlflow'\n",
    "mlflow.set_tracking_uri('http://127.0.0.1:5000/')\n",
    "client = MlflowClient() # Initialize client\n",
    "\n",
    "# Get the experiment id if it already exists and if not create it\n",
    "try:\n",
    "    experiment_id = client.create_experiment(EXPERIMENT_NAME, artifact_location=ARTIFACT_REPO)\n",
    "except:\n",
    "    experiment_id = client.get_experiment_by_name(EXPERIMENT_NAME).experiment_id"
   ]
  },
  {
   "cell_type": "markdown",
   "id": "160bb21d",
   "metadata": {},
   "source": [
    "### Binary Classification between Compliant / Non-compliant posts\n",
    "\n",
    "#### Machine Learning (ML) models"
   ]
  },
  {
   "cell_type": "code",
   "execution_count": 25,
   "id": "5b751e34",
   "metadata": {},
   "outputs": [],
   "source": [
    "def skmodel_experimentation(classifier, model_name, run_name):\n",
    "    with mlflow.start_run(experiment_id=experiment_id, run_name=run_name) as run:\n",
    "        run_id = run.info.run_uuid\n",
    "        MlflowClient().set_tag(run_id,\n",
    "                               \"mlflow.note.content\",\n",
    "                               \"Testing baseline models for binary classification between compliant(0) and non-compliant (1) posts \")\n",
    "        mlflow.sklearn.autolog() # Logged information like Parameters and Training metrics (like precission score, f1 score, ...)\n",
    "\n",
    "        tags = {\"Application\": \"Binary Classification - Non-Compliant/Compliant\", # ML/DL/Sentiment/Topic\n",
    "                \"release_version\": \"1.0.0\"}\n",
    "        mlflow.set_tags(tags)\n",
    "\n",
    "        clf = classifier\n",
    "        clf.fit(X_train, y_train)\n",
    "\n",
    "        valid_prediction = clf.predict_proba(X_valid)[:, 1]\n",
    "        fpr, tpr, thresholds = roc_curve(y_valid, valid_prediction)\n",
    "        roc_auc = auc(fpr, tpr)\n",
    "        mlflow.log_metrics({\"validation_auc\": roc_auc})\n",
    "        \n",
    "        ConfusionMatrixDisplay.from_estimator(clf, X_valid, y_valid,\n",
    "                              #display_labels=['Non-compliant', 'Compliant'],\n",
    "                              cmap='magma')\n",
    "        plt.title('Confusion Matrix')\n",
    "        plt.axis(\"off\")\n",
    "        filename = f'./{model_name}_validation_confusion_matrix.png'\n",
    "        plt.savefig(filename)\n",
    "        mlflow.log_artifact(filename)\n"
   ]
  },
  {
   "cell_type": "code",
   "execution_count": 26,
   "id": "6a254139",
   "metadata": {},
   "outputs": [
    {
     "name": "stderr",
     "output_type": "stream",
     "text": [
      "2023/06/04 18:31:04 WARNING mlflow.utils.autologging_utils: MLflow autologging encountered a warning: \"C:\\Users\\xtanl\\miniconda3\\lib\\site-packages\\_distutils_hack\\__init__.py:30: UserWarning: Setuptools is replacing distutils.\"\n"
     ]
    },
    {
     "data": {
      "image/png": "[encoded data removed]",
      "text/plain": [
       "<Figure size 640x480 with 2 Axes>"
      ]
     },
     "metadata": {},
     "output_type": "display_data"
    }
   ],
   "source": [
    "from sklearn.linear_model import LogisticRegression\n",
    "\n",
    "# Baseline model\n",
    "classifier = LogisticRegression()\n",
    "model_name = 'LogReg'\n",
    "run_name = 'LR_model'\n",
    "skmodel_experimentation(classifier, model_name, run_name)"
   ]
  },
  {
   "cell_type": "code",
   "execution_count": 28,
   "id": "076d754a",
   "metadata": {},
   "outputs": [
    {
     "data": {
      "image/png": "[encoded data removed]",
      "text/plain": [
       "<Figure size 640x480 with 2 Axes>"
      ]
     },
     "metadata": {},
     "output_type": "display_data"
    }
   ],
   "source": [
    "from sklearn.naive_bayes import MultinomialNB\n",
    "classifier = MultinomialNB()\n",
    "model_name = 'NB'\n",
    "run_name = 'NaiveBayes_model'\n",
    "skmodel_experimentation(classifier, model_name, run_name)"
   ]
  },
  {
   "cell_type": "code",
   "execution_count": 29,
   "id": "b644d396",
   "metadata": {},
   "outputs": [
    {
     "data": {
      "image/png": "[encoded data removed]",
      "text/plain": [
       "<Figure size 640x480 with 2 Axes>"
      ]
     },
     "metadata": {},
     "output_type": "display_data"
    }
   ],
   "source": [
    "from sklearn.svm import SVC\n",
    "classifier = SVC(probability=True)\n",
    "model_name = 'SVC'\n",
    "run_name = 'SVC_model'\n",
    "skmodel_experimentation(classifier, model_name, run_name)"
   ]
  },
  {
   "cell_type": "code",
   "execution_count": 30,
   "id": "bbaadc5c",
   "metadata": {},
   "outputs": [
    {
     "data": {
      "image/png": "[encoded data removed]",
      "text/plain": [
       "<Figure size 640x480 with 2 Axes>"
      ]
     },
     "metadata": {},
     "output_type": "display_data"
    }
   ],
   "source": [
    "from sklearn.neighbors import KNeighborsClassifier\n",
    "classifier = KNeighborsClassifier()\n",
    "model_name = 'KNN'\n",
    "run_name = 'KNN_model'\n",
    "skmodel_experimentation(classifier, model_name, run_name)"
   ]
  },
  {
   "cell_type": "markdown",
   "id": "618d020b",
   "metadata": {},
   "source": [
    "#### Deep Learning (DL) models -- without training"
   ]
  },
  {
   "cell_type": "code",
   "execution_count": 31,
   "id": "265a0066",
   "metadata": {},
   "outputs": [
    {
     "name": "stderr",
     "output_type": "stream",
     "text": [
      "C:\\Users\\xtanl\\miniconda3\\lib\\site-packages\\tqdm\\auto.py:22: TqdmWarning: IProgress not found. Please update jupyter and ipywidgets. See https://ipywidgets.readthedocs.io/en/stable/user_install.html\n",
      "  from .autonotebook import tqdm as notebook_tqdm\n"
     ]
    }
   ],
   "source": [
    "from transformers import AutoTokenizer\n",
    "from transformers import AutoModelForSequenceClassification\n",
    "\n",
    "import torch\n",
    "from datasets import load_metric"
   ]
  },
  {
   "cell_type": "code",
   "execution_count": 32,
   "id": "be5d51f3",
   "metadata": {},
   "outputs": [],
   "source": [
    "# Define dataset here -- train/test\n",
    "full_dataset = data_df[['content', 'non_compliant']]"
   ]
  },
  {
   "cell_type": "code",
   "execution_count": 33,
   "id": "21c083cd",
   "metadata": {},
   "outputs": [
    {
     "name": "stderr",
     "output_type": "stream",
     "text": [
      "C:\\Users\\xtanl\\AppData\\Local\\Temp\\ipykernel_33056\\2201987639.py:2: FutureWarning: load_metric is deprecated and will be removed in the next major version of datasets. Use 'evaluate.load' instead, from the new library 🤗 Evaluate: https://huggingface.co/docs/evaluate\n",
      "  metric = load_metric(\"accuracy\")\n"
     ]
    }
   ],
   "source": [
    "# Choice of metrics\n",
    "metric = load_metric(\"accuracy\")\n",
    "\n",
    "def compute_metrics(logits, labels):\n",
    "    #predictions = np.argmax(logits, axis=-1)\n",
    "    return metric.compute(predictions=logits, references=labels)"
   ]
  },
  {
   "cell_type": "code",
   "execution_count": 34,
   "id": "380c71f8",
   "metadata": {},
   "outputs": [],
   "source": [
    "def hfmodel_experimentation(model_name, dataset):\n",
    "    with mlflow.start_run(experiment_id=experiment_id, run_name=model_name) as run:\n",
    "        run_id = run.info.run_uuid\n",
    "        MlflowClient().set_tag(run_id,\n",
    "                               \"mlflow.note.content\",\n",
    "                               \"Testing baseline models for binary classification between compliant(0) and non-compliant (1) posts\")\n",
    "        mlflow.sklearn.autolog() # Logged information like Parameters and Training metrics (like precission score, f1 score, ...)\n",
    "\n",
    "        tags = {\"Application\": \"Binary Classification - Non-Compliant/Compliant\", # ML/DL/Sentiment/Topic\n",
    "                \"release_version\": \"1.0.0\"}\n",
    "        mlflow.set_tags(tags)\n",
    "        \n",
    "        # Add ID to binary labels\n",
    "        id2label = {0: \"compliant\", 1: \"non_compliant\"}\n",
    "        label2id = {\"compliant\": 0, \"non_compliant\": 1}\n",
    "\n",
    "        # Initialise Tokenizer\n",
    "        tokenizer = AutoTokenizer.from_pretrained(model_name)\n",
    "        # Initialise the model\n",
    "        model = AutoModelForSequenceClassification.from_pretrained(\n",
    "            model_name, num_labels=2, id2label=id2label, label2id=label2id\n",
    "        )\n",
    "        \n",
    "        # Initialise prediction list\n",
    "        predicted = []\n",
    "\n",
    "        for text_string in dataset['content']:    \n",
    "            inputs = tokenizer(text_string, return_tensors=\"pt\")\n",
    "            with torch.no_grad():\n",
    "                logit = model(**inputs).logits\n",
    "                #logits.append(logit)\n",
    "\n",
    "            predicted_class_id = logit.argmax().item()\n",
    "            #pred = model.config.id2label[predicted_class_id] #compliant / non_compliant\n",
    "            predicted.append(predicted_class_id)\n",
    "\n",
    "        labels = dataset['non_compliant']\n",
    "        accuracy = compute_metrics(predicted, labels)\n",
    "        mlflow.log_metrics({\"training_accuracy_score\": accuracy['accuracy']})"
   ]
  },
  {
   "cell_type": "code",
   "execution_count": 35,
   "id": "afe647ba",
   "metadata": {},
   "outputs": [
    {
     "name": "stderr",
     "output_type": "stream",
     "text": [
      "Downloading (…)okenizer_config.json: 100%|██████████████████████████████████████████| 29.0/29.0 [00:00<00:00, 14.5kB/s]\n",
      "C:\\Users\\xtanl\\miniconda3\\lib\\site-packages\\huggingface_hub\\file_download.py:133: UserWarning: `huggingface_hub` cache-system uses symlinks by default to efficiently store duplicated files but your machine does not support them in C:\\Users\\xtanl\\.cache\\huggingface\\hub. Caching files will still work but in a degraded version that might require more space on your disk. This warning can be disabled by setting the `HF_HUB_DISABLE_SYMLINKS_WARNING` environment variable. For more details, see https://huggingface.co/docs/huggingface_hub/how-to-cache#limitations.\n",
      "To support symlinks on Windows, you either need to activate Developer Mode or to run Python as an administrator. In order to see activate developer mode, see this article: https://docs.microsoft.com/en-us/windows/apps/get-started/enable-your-device-for-development\n",
      "  warnings.warn(message)\n",
      "Downloading (…)lve/main/config.json: 100%|█████████████████████████████████████████████| 570/570 [00:00<00:00, 285kB/s]\n",
      "Downloading (…)solve/main/vocab.txt: 100%|██████████████████████████████████████████| 213k/213k [00:00<00:00, 8.45MB/s]\n",
      "Downloading (…)/main/tokenizer.json: 100%|██████████████████████████████████████████| 436k/436k [00:00<00:00, 2.05MB/s]\n",
      "Downloading pytorch_model.bin: 100%|████████████████████████████████████████████████| 436M/436M [00:08<00:00, 50.1MB/s]\n",
      "Some weights of the model checkpoint at bert-base-cased were not used when initializing BertForSequenceClassification: ['cls.predictions.transform.dense.weight', 'cls.predictions.transform.dense.bias', 'cls.predictions.bias', 'cls.predictions.decoder.weight', 'cls.predictions.transform.LayerNorm.weight', 'cls.predictions.transform.LayerNorm.bias', 'cls.seq_relationship.bias', 'cls.seq_relationship.weight']\n",
      "- This IS expected if you are initializing BertForSequenceClassification from the checkpoint of a model trained on another task or with another architecture (e.g. initializing a BertForSequenceClassification model from a BertForPreTraining model).\n",
      "- This IS NOT expected if you are initializing BertForSequenceClassification from the checkpoint of a model that you expect to be exactly identical (initializing a BertForSequenceClassification model from a BertForSequenceClassification model).\n",
      "Some weights of BertForSequenceClassification were not initialized from the model checkpoint at bert-base-cased and are newly initialized: ['classifier.weight', 'classifier.bias']\n",
      "You should probably TRAIN this model on a down-stream task to be able to use it for predictions and inference.\n"
     ]
    }
   ],
   "source": [
    "# Baseline model\n",
    "model_name = \"bert-base-cased\"\n",
    "hfmodel_experimentation(model_name, full_dataset)"
   ]
  },
  {
   "cell_type": "code",
   "execution_count": 36,
   "id": "a7d3933d",
   "metadata": {},
   "outputs": [
    {
     "name": "stderr",
     "output_type": "stream",
     "text": [
      "Some weights of the model checkpoint at distilbert-base-cased were not used when initializing DistilBertForSequenceClassification: ['vocab_layer_norm.weight', 'vocab_projector.weight', 'vocab_layer_norm.bias', 'vocab_transform.weight', 'vocab_projector.bias', 'vocab_transform.bias']\n",
      "- This IS expected if you are initializing DistilBertForSequenceClassification from the checkpoint of a model trained on another task or with another architecture (e.g. initializing a BertForSequenceClassification model from a BertForPreTraining model).\n",
      "- This IS NOT expected if you are initializing DistilBertForSequenceClassification from the checkpoint of a model that you expect to be exactly identical (initializing a BertForSequenceClassification model from a BertForSequenceClassification model).\n",
      "Some weights of DistilBertForSequenceClassification were not initialized from the model checkpoint at distilbert-base-cased and are newly initialized: ['pre_classifier.weight', 'classifier.weight', 'classifier.bias', 'pre_classifier.bias']\n",
      "You should probably TRAIN this model on a down-stream task to be able to use it for predictions and inference.\n"
     ]
    }
   ],
   "source": [
    "model_name = \"distilbert-base-cased\"\n",
    "hfmodel_experimentation(model_name, full_dataset)"
   ]
  }
 ],
 "metadata": {
  "kernelspec": {
   "display_name": "Python 3 (ipykernel)",
   "language": "python",
   "name": "python3"
  },
  "language_info": {
   "codemirror_mode": {
    "name": "ipython",
    "version": 3
   },
   "file_extension": ".py",
   "mimetype": "text/x-python",
   "name": "python",
   "nbconvert_exporter": "python",
   "pygments_lexer": "ipython3",
   "version": "3.9.12"
  }
 },
 "nbformat": 4,
 "nbformat_minor": 5
}
